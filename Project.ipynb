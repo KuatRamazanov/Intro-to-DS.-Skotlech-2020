{
 "cells": [
  {
   "cell_type": "code",
   "execution_count": 1,
   "metadata": {
    "slideshow": {
     "slide_type": "-"
    }
   },
   "outputs": [
    {
     "name": "stdout",
     "output_type": "stream",
     "text": [
      "Requirement already satisfied: lasio in c:\\users\\ramaz\\anaconda3\\lib\\site-packages (0.28)\n",
      "Requirement already satisfied: numpy in c:\\users\\ramaz\\anaconda3\\lib\\site-packages (from lasio) (1.18.5)\n",
      "Note: you may need to restart the kernel to use updated packages.\n"
     ]
    }
   ],
   "source": [
    "pip install lasio"
   ]
  },
  {
   "cell_type": "code",
   "execution_count": 1,
   "metadata": {
    "slideshow": {
     "slide_type": "slide"
    }
   },
   "outputs": [],
   "source": [
    "import lasio\n",
    "import lasio.examples\n",
    "import pandas as pd\n",
    "import numpy as np\n",
    "import seaborn as sns\n",
    "sns.set()"
   ]
  },
  {
   "cell_type": "code",
   "execution_count": 2,
   "metadata": {},
   "outputs": [],
   "source": [
    "las1 = lasio.read('15_9-12.las')\n",
    "las2 = lasio.read('15_9-13.las')\n",
    "las3 = lasio.read('15_9-14.las')\n",
    "las4 = lasio.read('15_9-17.las')\n",
    "las5 = lasio.read('15_9-18.las')\n",
    "las6 = lasio.read('15_9-2.las')\n",
    "las7 = lasio.read('15_9-22.las')\n",
    "las8 = lasio.read('15_9-23.las')\n",
    "las9 = lasio.read('15_9-4.las')\n",
    "las10 = lasio.read('15_9-5.las')\n",
    "las11 = lasio.read('15_9-7.las')\n",
    "las12 = lasio.read('15_9-8.las')\n",
    "las13 = lasio.read('15_9-9.las')\n",
    "las14 = lasio.read('16_7-1.las')\n",
    "las15 = lasio.read('16_7-2.las')\n",
    "las16 = lasio.read('16_7-3.las')\n",
    "las17 = lasio.read('16_7-4.las')\n",
    "las18 = lasio.read('16_7-5.las')\n",
    "las19 = lasio.read('16_7-6.las')\n",
    "las20 = lasio.read('16_7-7 S.las')"
   ]
  },
  {
   "cell_type": "code",
   "execution_count": 3,
   "metadata": {},
   "outputs": [],
   "source": [
    "df1 = las1.df()\n",
    "df2 = las2.df()\n",
    "df3 = las3.df()\n",
    "df4 = las4.df()\n",
    "df5 = las5.df()\n",
    "df6 = las6.df()\n",
    "df7 = las7.df()\n",
    "df8 = las8.df()\n",
    "df9 = las9.df()\n",
    "df10 = las10.df()\n",
    "df11 = las11.df()\n",
    "df12 = las12.df()\n",
    "df13 = las13.df()\n",
    "df14 = las14.df()\n",
    "df15 = las15.df()\n",
    "df16 = las16.df()\n",
    "df17 = las17.df()\n",
    "df18 = las18.df()\n",
    "df19 = las19.df()\n",
    "df20 = las20.df()"
   ]
  },
  {
   "cell_type": "code",
   "execution_count": 10,
   "metadata": {},
   "outputs": [],
   "source": [
    "df1 = df1.dropna()\n",
    "df2 = df2.dropna()\n",
    "df3 = df3.dropna()\n",
    "df4 = df4.dropna()\n",
    "df5 = df5.dropna()\n",
    "df6 = df6.dropna()\n",
    "df7 = df7.dropna()\n",
    "df8 = df8.dropna()\n",
    "df9 = df9.dropna()\n",
    "df10 = df10.dropna()\n",
    "df11 = df11.dropna()\n",
    "df12 = df12.dropna()\n",
    "df13 = df13.dropna()\n",
    "df14 = df14.dropna()\n",
    "df15 = df15.dropna()\n",
    "df16 = df16.dropna()\n",
    "df17 = df17.dropna()\n",
    "df18 = df18.dropna()\n",
    "df19 = df19.dropna()\n",
    "df20 = df20.dropna()\n",
    "\n",
    "\n",
    "list_df = [df1, df2, df3, df4, df5, df6, df8, df9, df10, df11, df12, df13, df15, df16, df17, df18, df19]\n",
    "\n",
    "concatenated = pd.concat(list_df)\n",
    "\n",
    "concatenated = concatenated.drop(['DTE','RXO', 'PEF', 'DCAL', 'SGR', 'DT', 'BS',\n",
    "       'ROP', 'DTS', 'THOR', 'URAN', 'RMIC'], 1)\n",
    "concatenated = concatenated.dropna()"
   ]
  },
  {
   "cell_type": "code",
   "execution_count": 11,
   "metadata": {},
   "outputs": [
    {
     "data": {
      "text/html": [
       "<div>\n",
       "<style scoped>\n",
       "    .dataframe tbody tr th:only-of-type {\n",
       "        vertical-align: middle;\n",
       "    }\n",
       "\n",
       "    .dataframe tbody tr th {\n",
       "        vertical-align: top;\n",
       "    }\n",
       "\n",
       "    .dataframe thead th {\n",
       "        text-align: right;\n",
       "    }\n",
       "</style>\n",
       "<table border=\"1\" class=\"dataframe\">\n",
       "  <thead>\n",
       "    <tr style=\"text-align: right;\">\n",
       "      <th></th>\n",
       "      <th>LITHOLOGY_GEOLINK</th>\n",
       "      <th>CALI</th>\n",
       "      <th>DRHO</th>\n",
       "      <th>NPHI</th>\n",
       "      <th>RHOB</th>\n",
       "      <th>GR</th>\n",
       "      <th>DTC</th>\n",
       "      <th>RDEP</th>\n",
       "      <th>SP</th>\n",
       "      <th>RSHA</th>\n",
       "      <th>RMED</th>\n",
       "    </tr>\n",
       "    <tr>\n",
       "      <th>DEPT</th>\n",
       "      <th></th>\n",
       "      <th></th>\n",
       "      <th></th>\n",
       "      <th></th>\n",
       "      <th></th>\n",
       "      <th></th>\n",
       "      <th></th>\n",
       "      <th></th>\n",
       "      <th></th>\n",
       "      <th></th>\n",
       "      <th></th>\n",
       "    </tr>\n",
       "  </thead>\n",
       "  <tbody>\n",
       "    <tr>\n",
       "      <th>3357.850830</th>\n",
       "      <td>13.0</td>\n",
       "      <td>18.983999</td>\n",
       "      <td>-0.004000</td>\n",
       "      <td>0.419418</td>\n",
       "      <td>2.127000</td>\n",
       "      <td>50.187031</td>\n",
       "      <td>126.934425</td>\n",
       "      <td>0.792038</td>\n",
       "      <td>84.936554</td>\n",
       "      <td>0.759147</td>\n",
       "      <td>0.759147</td>\n",
       "    </tr>\n",
       "    <tr>\n",
       "      <th>3358.003174</th>\n",
       "      <td>13.0</td>\n",
       "      <td>14.828000</td>\n",
       "      <td>-0.005000</td>\n",
       "      <td>0.412075</td>\n",
       "      <td>2.125000</td>\n",
       "      <td>58.304863</td>\n",
       "      <td>123.770439</td>\n",
       "      <td>0.815994</td>\n",
       "      <td>85.904610</td>\n",
       "      <td>0.851189</td>\n",
       "      <td>0.851189</td>\n",
       "    </tr>\n",
       "    <tr>\n",
       "      <th>3358.155518</th>\n",
       "      <td>13.0</td>\n",
       "      <td>14.664000</td>\n",
       "      <td>-0.014000</td>\n",
       "      <td>0.390124</td>\n",
       "      <td>2.105000</td>\n",
       "      <td>58.216011</td>\n",
       "      <td>110.548607</td>\n",
       "      <td>0.812000</td>\n",
       "      <td>85.662392</td>\n",
       "      <td>0.969163</td>\n",
       "      <td>0.969163</td>\n",
       "    </tr>\n",
       "    <tr>\n",
       "      <th>3358.308105</th>\n",
       "      <td>13.0</td>\n",
       "      <td>14.438001</td>\n",
       "      <td>-0.017000</td>\n",
       "      <td>0.380448</td>\n",
       "      <td>2.035000</td>\n",
       "      <td>56.338715</td>\n",
       "      <td>109.576866</td>\n",
       "      <td>0.812125</td>\n",
       "      <td>87.153221</td>\n",
       "      <td>1.071205</td>\n",
       "      <td>1.071205</td>\n",
       "    </tr>\n",
       "    <tr>\n",
       "      <th>3358.460449</th>\n",
       "      <td>13.0</td>\n",
       "      <td>12.914000</td>\n",
       "      <td>-0.034000</td>\n",
       "      <td>0.404760</td>\n",
       "      <td>2.010000</td>\n",
       "      <td>51.894508</td>\n",
       "      <td>111.313316</td>\n",
       "      <td>0.851075</td>\n",
       "      <td>87.527016</td>\n",
       "      <td>1.134928</td>\n",
       "      <td>1.134928</td>\n",
       "    </tr>\n",
       "    <tr>\n",
       "      <th>...</th>\n",
       "      <td>...</td>\n",
       "      <td>...</td>\n",
       "      <td>...</td>\n",
       "      <td>...</td>\n",
       "      <td>...</td>\n",
       "      <td>...</td>\n",
       "      <td>...</td>\n",
       "      <td>...</td>\n",
       "      <td>...</td>\n",
       "      <td>...</td>\n",
       "      <td>...</td>\n",
       "    </tr>\n",
       "    <tr>\n",
       "      <th>2698.089600</th>\n",
       "      <td>4.0</td>\n",
       "      <td>11.770800</td>\n",
       "      <td>-0.044387</td>\n",
       "      <td>0.227349</td>\n",
       "      <td>2.373400</td>\n",
       "      <td>69.148804</td>\n",
       "      <td>81.763000</td>\n",
       "      <td>0.609000</td>\n",
       "      <td>-75.562302</td>\n",
       "      <td>1.080700</td>\n",
       "      <td>0.625600</td>\n",
       "    </tr>\n",
       "    <tr>\n",
       "      <th>2698.241943</th>\n",
       "      <td>4.0</td>\n",
       "      <td>11.752189</td>\n",
       "      <td>-0.041129</td>\n",
       "      <td>0.225686</td>\n",
       "      <td>2.360900</td>\n",
       "      <td>69.958344</td>\n",
       "      <td>81.438934</td>\n",
       "      <td>0.602891</td>\n",
       "      <td>-75.500076</td>\n",
       "      <td>1.055974</td>\n",
       "      <td>0.617191</td>\n",
       "    </tr>\n",
       "    <tr>\n",
       "      <th>2698.394531</th>\n",
       "      <td>4.0</td>\n",
       "      <td>11.715930</td>\n",
       "      <td>-0.040551</td>\n",
       "      <td>0.230370</td>\n",
       "      <td>2.361300</td>\n",
       "      <td>72.491623</td>\n",
       "      <td>82.329536</td>\n",
       "      <td>0.579420</td>\n",
       "      <td>-75.624893</td>\n",
       "      <td>0.988656</td>\n",
       "      <td>0.592421</td>\n",
       "    </tr>\n",
       "    <tr>\n",
       "      <th>2698.546875</th>\n",
       "      <td>5.0</td>\n",
       "      <td>11.715701</td>\n",
       "      <td>-0.035375</td>\n",
       "      <td>0.255160</td>\n",
       "      <td>2.343709</td>\n",
       "      <td>74.342392</td>\n",
       "      <td>83.975388</td>\n",
       "      <td>0.547116</td>\n",
       "      <td>-76.062286</td>\n",
       "      <td>0.901841</td>\n",
       "      <td>0.558416</td>\n",
       "    </tr>\n",
       "    <tr>\n",
       "      <th>2698.699219</th>\n",
       "      <td>5.0</td>\n",
       "      <td>11.714800</td>\n",
       "      <td>-0.035529</td>\n",
       "      <td>0.260669</td>\n",
       "      <td>2.315603</td>\n",
       "      <td>73.426224</td>\n",
       "      <td>85.696587</td>\n",
       "      <td>0.511004</td>\n",
       "      <td>-75.812531</td>\n",
       "      <td>0.813310</td>\n",
       "      <td>0.520605</td>\n",
       "    </tr>\n",
       "  </tbody>\n",
       "</table>\n",
       "<p>67535 rows × 11 columns</p>\n",
       "</div>"
      ],
      "text/plain": [
       "             LITHOLOGY_GEOLINK       CALI      DRHO      NPHI      RHOB  \\\n",
       "DEPT                                                                      \n",
       "3357.850830               13.0  18.983999 -0.004000  0.419418  2.127000   \n",
       "3358.003174               13.0  14.828000 -0.005000  0.412075  2.125000   \n",
       "3358.155518               13.0  14.664000 -0.014000  0.390124  2.105000   \n",
       "3358.308105               13.0  14.438001 -0.017000  0.380448  2.035000   \n",
       "3358.460449               13.0  12.914000 -0.034000  0.404760  2.010000   \n",
       "...                        ...        ...       ...       ...       ...   \n",
       "2698.089600                4.0  11.770800 -0.044387  0.227349  2.373400   \n",
       "2698.241943                4.0  11.752189 -0.041129  0.225686  2.360900   \n",
       "2698.394531                4.0  11.715930 -0.040551  0.230370  2.361300   \n",
       "2698.546875                5.0  11.715701 -0.035375  0.255160  2.343709   \n",
       "2698.699219                5.0  11.714800 -0.035529  0.260669  2.315603   \n",
       "\n",
       "                    GR         DTC      RDEP         SP      RSHA      RMED  \n",
       "DEPT                                                                         \n",
       "3357.850830  50.187031  126.934425  0.792038  84.936554  0.759147  0.759147  \n",
       "3358.003174  58.304863  123.770439  0.815994  85.904610  0.851189  0.851189  \n",
       "3358.155518  58.216011  110.548607  0.812000  85.662392  0.969163  0.969163  \n",
       "3358.308105  56.338715  109.576866  0.812125  87.153221  1.071205  1.071205  \n",
       "3358.460449  51.894508  111.313316  0.851075  87.527016  1.134928  1.134928  \n",
       "...                ...         ...       ...        ...       ...       ...  \n",
       "2698.089600  69.148804   81.763000  0.609000 -75.562302  1.080700  0.625600  \n",
       "2698.241943  69.958344   81.438934  0.602891 -75.500076  1.055974  0.617191  \n",
       "2698.394531  72.491623   82.329536  0.579420 -75.624893  0.988656  0.592421  \n",
       "2698.546875  74.342392   83.975388  0.547116 -76.062286  0.901841  0.558416  \n",
       "2698.699219  73.426224   85.696587  0.511004 -75.812531  0.813310  0.520605  \n",
       "\n",
       "[67535 rows x 11 columns]"
      ]
     },
     "execution_count": 11,
     "metadata": {},
     "output_type": "execute_result"
    }
   ],
   "source": [
    "concatenated"
   ]
  },
  {
   "cell_type": "code",
   "execution_count": 12,
   "metadata": {},
   "outputs": [
    {
     "data": {
      "text/html": [
       "<div>\n",
       "<style scoped>\n",
       "    .dataframe tbody tr th:only-of-type {\n",
       "        vertical-align: middle;\n",
       "    }\n",
       "\n",
       "    .dataframe tbody tr th {\n",
       "        vertical-align: top;\n",
       "    }\n",
       "\n",
       "    .dataframe thead th {\n",
       "        text-align: right;\n",
       "    }\n",
       "</style>\n",
       "<table border=\"1\" class=\"dataframe\">\n",
       "  <thead>\n",
       "    <tr style=\"text-align: right;\">\n",
       "      <th></th>\n",
       "      <th>Код ГП</th>\n",
       "      <th>CALI</th>\n",
       "      <th>DRHO</th>\n",
       "      <th>NPHI</th>\n",
       "      <th>RHOB</th>\n",
       "      <th>GR</th>\n",
       "      <th>DTC</th>\n",
       "      <th>RDEP</th>\n",
       "      <th>SP</th>\n",
       "      <th>RSHA</th>\n",
       "      <th>RMED</th>\n",
       "    </tr>\n",
       "  </thead>\n",
       "  <tbody>\n",
       "    <tr>\n",
       "      <th>0</th>\n",
       "      <td>13.0</td>\n",
       "      <td>18.983999</td>\n",
       "      <td>-0.004000</td>\n",
       "      <td>0.419418</td>\n",
       "      <td>2.127000</td>\n",
       "      <td>50.187031</td>\n",
       "      <td>126.934425</td>\n",
       "      <td>0.792038</td>\n",
       "      <td>84.936554</td>\n",
       "      <td>0.759147</td>\n",
       "      <td>0.759147</td>\n",
       "    </tr>\n",
       "    <tr>\n",
       "      <th>1</th>\n",
       "      <td>13.0</td>\n",
       "      <td>14.828000</td>\n",
       "      <td>-0.005000</td>\n",
       "      <td>0.412075</td>\n",
       "      <td>2.125000</td>\n",
       "      <td>58.304863</td>\n",
       "      <td>123.770439</td>\n",
       "      <td>0.815994</td>\n",
       "      <td>85.904610</td>\n",
       "      <td>0.851189</td>\n",
       "      <td>0.851189</td>\n",
       "    </tr>\n",
       "    <tr>\n",
       "      <th>2</th>\n",
       "      <td>13.0</td>\n",
       "      <td>14.664000</td>\n",
       "      <td>-0.014000</td>\n",
       "      <td>0.390124</td>\n",
       "      <td>2.105000</td>\n",
       "      <td>58.216011</td>\n",
       "      <td>110.548607</td>\n",
       "      <td>0.812000</td>\n",
       "      <td>85.662392</td>\n",
       "      <td>0.969163</td>\n",
       "      <td>0.969163</td>\n",
       "    </tr>\n",
       "    <tr>\n",
       "      <th>3</th>\n",
       "      <td>13.0</td>\n",
       "      <td>14.438001</td>\n",
       "      <td>-0.017000</td>\n",
       "      <td>0.380448</td>\n",
       "      <td>2.035000</td>\n",
       "      <td>56.338715</td>\n",
       "      <td>109.576866</td>\n",
       "      <td>0.812125</td>\n",
       "      <td>87.153221</td>\n",
       "      <td>1.071205</td>\n",
       "      <td>1.071205</td>\n",
       "    </tr>\n",
       "    <tr>\n",
       "      <th>4</th>\n",
       "      <td>13.0</td>\n",
       "      <td>12.914000</td>\n",
       "      <td>-0.034000</td>\n",
       "      <td>0.404760</td>\n",
       "      <td>2.010000</td>\n",
       "      <td>51.894508</td>\n",
       "      <td>111.313316</td>\n",
       "      <td>0.851075</td>\n",
       "      <td>87.527016</td>\n",
       "      <td>1.134928</td>\n",
       "      <td>1.134928</td>\n",
       "    </tr>\n",
       "    <tr>\n",
       "      <th>...</th>\n",
       "      <td>...</td>\n",
       "      <td>...</td>\n",
       "      <td>...</td>\n",
       "      <td>...</td>\n",
       "      <td>...</td>\n",
       "      <td>...</td>\n",
       "      <td>...</td>\n",
       "      <td>...</td>\n",
       "      <td>...</td>\n",
       "      <td>...</td>\n",
       "      <td>...</td>\n",
       "    </tr>\n",
       "    <tr>\n",
       "      <th>67530</th>\n",
       "      <td>4.0</td>\n",
       "      <td>11.770800</td>\n",
       "      <td>-0.044387</td>\n",
       "      <td>0.227349</td>\n",
       "      <td>2.373400</td>\n",
       "      <td>69.148804</td>\n",
       "      <td>81.763000</td>\n",
       "      <td>0.609000</td>\n",
       "      <td>-75.562302</td>\n",
       "      <td>1.080700</td>\n",
       "      <td>0.625600</td>\n",
       "    </tr>\n",
       "    <tr>\n",
       "      <th>67531</th>\n",
       "      <td>4.0</td>\n",
       "      <td>11.752189</td>\n",
       "      <td>-0.041129</td>\n",
       "      <td>0.225686</td>\n",
       "      <td>2.360900</td>\n",
       "      <td>69.958344</td>\n",
       "      <td>81.438934</td>\n",
       "      <td>0.602891</td>\n",
       "      <td>-75.500076</td>\n",
       "      <td>1.055974</td>\n",
       "      <td>0.617191</td>\n",
       "    </tr>\n",
       "    <tr>\n",
       "      <th>67532</th>\n",
       "      <td>4.0</td>\n",
       "      <td>11.715930</td>\n",
       "      <td>-0.040551</td>\n",
       "      <td>0.230370</td>\n",
       "      <td>2.361300</td>\n",
       "      <td>72.491623</td>\n",
       "      <td>82.329536</td>\n",
       "      <td>0.579420</td>\n",
       "      <td>-75.624893</td>\n",
       "      <td>0.988656</td>\n",
       "      <td>0.592421</td>\n",
       "    </tr>\n",
       "    <tr>\n",
       "      <th>67533</th>\n",
       "      <td>5.0</td>\n",
       "      <td>11.715701</td>\n",
       "      <td>-0.035375</td>\n",
       "      <td>0.255160</td>\n",
       "      <td>2.343709</td>\n",
       "      <td>74.342392</td>\n",
       "      <td>83.975388</td>\n",
       "      <td>0.547116</td>\n",
       "      <td>-76.062286</td>\n",
       "      <td>0.901841</td>\n",
       "      <td>0.558416</td>\n",
       "    </tr>\n",
       "    <tr>\n",
       "      <th>67534</th>\n",
       "      <td>5.0</td>\n",
       "      <td>11.714800</td>\n",
       "      <td>-0.035529</td>\n",
       "      <td>0.260669</td>\n",
       "      <td>2.315603</td>\n",
       "      <td>73.426224</td>\n",
       "      <td>85.696587</td>\n",
       "      <td>0.511004</td>\n",
       "      <td>-75.812531</td>\n",
       "      <td>0.813310</td>\n",
       "      <td>0.520605</td>\n",
       "    </tr>\n",
       "  </tbody>\n",
       "</table>\n",
       "<p>67535 rows × 11 columns</p>\n",
       "</div>"
      ],
      "text/plain": [
       "       Код ГП       CALI      DRHO      NPHI      RHOB         GR         DTC  \\\n",
       "0        13.0  18.983999 -0.004000  0.419418  2.127000  50.187031  126.934425   \n",
       "1        13.0  14.828000 -0.005000  0.412075  2.125000  58.304863  123.770439   \n",
       "2        13.0  14.664000 -0.014000  0.390124  2.105000  58.216011  110.548607   \n",
       "3        13.0  14.438001 -0.017000  0.380448  2.035000  56.338715  109.576866   \n",
       "4        13.0  12.914000 -0.034000  0.404760  2.010000  51.894508  111.313316   \n",
       "...       ...        ...       ...       ...       ...        ...         ...   \n",
       "67530     4.0  11.770800 -0.044387  0.227349  2.373400  69.148804   81.763000   \n",
       "67531     4.0  11.752189 -0.041129  0.225686  2.360900  69.958344   81.438934   \n",
       "67532     4.0  11.715930 -0.040551  0.230370  2.361300  72.491623   82.329536   \n",
       "67533     5.0  11.715701 -0.035375  0.255160  2.343709  74.342392   83.975388   \n",
       "67534     5.0  11.714800 -0.035529  0.260669  2.315603  73.426224   85.696587   \n",
       "\n",
       "           RDEP         SP      RSHA      RMED  \n",
       "0      0.792038  84.936554  0.759147  0.759147  \n",
       "1      0.815994  85.904610  0.851189  0.851189  \n",
       "2      0.812000  85.662392  0.969163  0.969163  \n",
       "3      0.812125  87.153221  1.071205  1.071205  \n",
       "4      0.851075  87.527016  1.134928  1.134928  \n",
       "...         ...        ...       ...       ...  \n",
       "67530  0.609000 -75.562302  1.080700  0.625600  \n",
       "67531  0.602891 -75.500076  1.055974  0.617191  \n",
       "67532  0.579420 -75.624893  0.988656  0.592421  \n",
       "67533  0.547116 -76.062286  0.901841  0.558416  \n",
       "67534  0.511004 -75.812531  0.813310  0.520605  \n",
       "\n",
       "[67535 rows x 11 columns]"
      ]
     },
     "execution_count": 12,
     "metadata": {},
     "output_type": "execute_result"
    }
   ],
   "source": [
    "concatenated = concatenated.reset_index(drop=True)\n",
    "concatenated.rename(columns={\"LITHOLOGY_GEOLINK\": \"Код ГП\"})"
   ]
  },
  {
   "cell_type": "code",
   "execution_count": 9,
   "metadata": {},
   "outputs": [
    {
     "data": {
      "text/html": [
       "<div>\n",
       "<style scoped>\n",
       "    .dataframe tbody tr th:only-of-type {\n",
       "        vertical-align: middle;\n",
       "    }\n",
       "\n",
       "    .dataframe tbody tr th {\n",
       "        vertical-align: top;\n",
       "    }\n",
       "\n",
       "    .dataframe thead th {\n",
       "        text-align: right;\n",
       "    }\n",
       "</style>\n",
       "<table border=\"1\" class=\"dataframe\">\n",
       "  <thead>\n",
       "    <tr style=\"text-align: right;\">\n",
       "      <th></th>\n",
       "      <th>LITHOLOGY_GEOLINK</th>\n",
       "      <th>CALI</th>\n",
       "      <th>DRHO</th>\n",
       "      <th>NPHI</th>\n",
       "      <th>RHOB</th>\n",
       "      <th>GR</th>\n",
       "      <th>DTC</th>\n",
       "      <th>RDEP</th>\n",
       "      <th>SP</th>\n",
       "      <th>RSHA</th>\n",
       "      <th>RMED</th>\n",
       "    </tr>\n",
       "    <tr>\n",
       "      <th>DEPT</th>\n",
       "      <th></th>\n",
       "      <th></th>\n",
       "      <th></th>\n",
       "      <th></th>\n",
       "      <th></th>\n",
       "      <th></th>\n",
       "      <th></th>\n",
       "      <th></th>\n",
       "      <th></th>\n",
       "      <th></th>\n",
       "      <th></th>\n",
       "    </tr>\n",
       "  </thead>\n",
       "  <tbody>\n",
       "    <tr>\n",
       "      <th>3357.850830</th>\n",
       "      <td>13.0</td>\n",
       "      <td>18.983999</td>\n",
       "      <td>-0.004000</td>\n",
       "      <td>0.419418</td>\n",
       "      <td>2.127000</td>\n",
       "      <td>50.187031</td>\n",
       "      <td>126.934425</td>\n",
       "      <td>0.792038</td>\n",
       "      <td>84.936554</td>\n",
       "      <td>0.759147</td>\n",
       "      <td>0.759147</td>\n",
       "    </tr>\n",
       "    <tr>\n",
       "      <th>3358.003174</th>\n",
       "      <td>13.0</td>\n",
       "      <td>14.828000</td>\n",
       "      <td>-0.005000</td>\n",
       "      <td>0.412075</td>\n",
       "      <td>2.125000</td>\n",
       "      <td>58.304863</td>\n",
       "      <td>123.770439</td>\n",
       "      <td>0.815994</td>\n",
       "      <td>85.904610</td>\n",
       "      <td>0.851189</td>\n",
       "      <td>0.851189</td>\n",
       "    </tr>\n",
       "    <tr>\n",
       "      <th>3358.155518</th>\n",
       "      <td>13.0</td>\n",
       "      <td>14.664000</td>\n",
       "      <td>-0.014000</td>\n",
       "      <td>0.390124</td>\n",
       "      <td>2.105000</td>\n",
       "      <td>58.216011</td>\n",
       "      <td>110.548607</td>\n",
       "      <td>0.812000</td>\n",
       "      <td>85.662392</td>\n",
       "      <td>0.969163</td>\n",
       "      <td>0.969163</td>\n",
       "    </tr>\n",
       "    <tr>\n",
       "      <th>3358.308105</th>\n",
       "      <td>13.0</td>\n",
       "      <td>14.438001</td>\n",
       "      <td>-0.017000</td>\n",
       "      <td>0.380448</td>\n",
       "      <td>2.035000</td>\n",
       "      <td>56.338715</td>\n",
       "      <td>109.576866</td>\n",
       "      <td>0.812125</td>\n",
       "      <td>87.153221</td>\n",
       "      <td>1.071205</td>\n",
       "      <td>1.071205</td>\n",
       "    </tr>\n",
       "    <tr>\n",
       "      <th>3358.460449</th>\n",
       "      <td>13.0</td>\n",
       "      <td>12.914000</td>\n",
       "      <td>-0.034000</td>\n",
       "      <td>0.404760</td>\n",
       "      <td>2.010000</td>\n",
       "      <td>51.894508</td>\n",
       "      <td>111.313316</td>\n",
       "      <td>0.851075</td>\n",
       "      <td>87.527016</td>\n",
       "      <td>1.134928</td>\n",
       "      <td>1.134928</td>\n",
       "    </tr>\n",
       "    <tr>\n",
       "      <th>...</th>\n",
       "      <td>...</td>\n",
       "      <td>...</td>\n",
       "      <td>...</td>\n",
       "      <td>...</td>\n",
       "      <td>...</td>\n",
       "      <td>...</td>\n",
       "      <td>...</td>\n",
       "      <td>...</td>\n",
       "      <td>...</td>\n",
       "      <td>...</td>\n",
       "      <td>...</td>\n",
       "    </tr>\n",
       "    <tr>\n",
       "      <th>2698.089600</th>\n",
       "      <td>4.0</td>\n",
       "      <td>11.770800</td>\n",
       "      <td>-0.044387</td>\n",
       "      <td>0.227349</td>\n",
       "      <td>2.373400</td>\n",
       "      <td>69.148804</td>\n",
       "      <td>81.763000</td>\n",
       "      <td>0.609000</td>\n",
       "      <td>-75.562302</td>\n",
       "      <td>1.080700</td>\n",
       "      <td>0.625600</td>\n",
       "    </tr>\n",
       "    <tr>\n",
       "      <th>2698.241943</th>\n",
       "      <td>4.0</td>\n",
       "      <td>11.752189</td>\n",
       "      <td>-0.041129</td>\n",
       "      <td>0.225686</td>\n",
       "      <td>2.360900</td>\n",
       "      <td>69.958344</td>\n",
       "      <td>81.438934</td>\n",
       "      <td>0.602891</td>\n",
       "      <td>-75.500076</td>\n",
       "      <td>1.055974</td>\n",
       "      <td>0.617191</td>\n",
       "    </tr>\n",
       "    <tr>\n",
       "      <th>2698.394531</th>\n",
       "      <td>4.0</td>\n",
       "      <td>11.715930</td>\n",
       "      <td>-0.040551</td>\n",
       "      <td>0.230370</td>\n",
       "      <td>2.361300</td>\n",
       "      <td>72.491623</td>\n",
       "      <td>82.329536</td>\n",
       "      <td>0.579420</td>\n",
       "      <td>-75.624893</td>\n",
       "      <td>0.988656</td>\n",
       "      <td>0.592421</td>\n",
       "    </tr>\n",
       "    <tr>\n",
       "      <th>2698.546875</th>\n",
       "      <td>5.0</td>\n",
       "      <td>11.715701</td>\n",
       "      <td>-0.035375</td>\n",
       "      <td>0.255160</td>\n",
       "      <td>2.343709</td>\n",
       "      <td>74.342392</td>\n",
       "      <td>83.975388</td>\n",
       "      <td>0.547116</td>\n",
       "      <td>-76.062286</td>\n",
       "      <td>0.901841</td>\n",
       "      <td>0.558416</td>\n",
       "    </tr>\n",
       "    <tr>\n",
       "      <th>2698.699219</th>\n",
       "      <td>5.0</td>\n",
       "      <td>11.714800</td>\n",
       "      <td>-0.035529</td>\n",
       "      <td>0.260669</td>\n",
       "      <td>2.315603</td>\n",
       "      <td>73.426224</td>\n",
       "      <td>85.696587</td>\n",
       "      <td>0.511004</td>\n",
       "      <td>-75.812531</td>\n",
       "      <td>0.813310</td>\n",
       "      <td>0.520605</td>\n",
       "    </tr>\n",
       "  </tbody>\n",
       "</table>\n",
       "<p>67535 rows × 11 columns</p>\n",
       "</div>"
      ],
      "text/plain": [
       "             LITHOLOGY_GEOLINK       CALI      DRHO      NPHI      RHOB  \\\n",
       "DEPT                                                                      \n",
       "3357.850830               13.0  18.983999 -0.004000  0.419418  2.127000   \n",
       "3358.003174               13.0  14.828000 -0.005000  0.412075  2.125000   \n",
       "3358.155518               13.0  14.664000 -0.014000  0.390124  2.105000   \n",
       "3358.308105               13.0  14.438001 -0.017000  0.380448  2.035000   \n",
       "3358.460449               13.0  12.914000 -0.034000  0.404760  2.010000   \n",
       "...                        ...        ...       ...       ...       ...   \n",
       "2698.089600                4.0  11.770800 -0.044387  0.227349  2.373400   \n",
       "2698.241943                4.0  11.752189 -0.041129  0.225686  2.360900   \n",
       "2698.394531                4.0  11.715930 -0.040551  0.230370  2.361300   \n",
       "2698.546875                5.0  11.715701 -0.035375  0.255160  2.343709   \n",
       "2698.699219                5.0  11.714800 -0.035529  0.260669  2.315603   \n",
       "\n",
       "                    GR         DTC      RDEP         SP      RSHA      RMED  \n",
       "DEPT                                                                         \n",
       "3357.850830  50.187031  126.934425  0.792038  84.936554  0.759147  0.759147  \n",
       "3358.003174  58.304863  123.770439  0.815994  85.904610  0.851189  0.851189  \n",
       "3358.155518  58.216011  110.548607  0.812000  85.662392  0.969163  0.969163  \n",
       "3358.308105  56.338715  109.576866  0.812125  87.153221  1.071205  1.071205  \n",
       "3358.460449  51.894508  111.313316  0.851075  87.527016  1.134928  1.134928  \n",
       "...                ...         ...       ...        ...       ...       ...  \n",
       "2698.089600  69.148804   81.763000  0.609000 -75.562302  1.080700  0.625600  \n",
       "2698.241943  69.958344   81.438934  0.602891 -75.500076  1.055974  0.617191  \n",
       "2698.394531  72.491623   82.329536  0.579420 -75.624893  0.988656  0.592421  \n",
       "2698.546875  74.342392   83.975388  0.547116 -76.062286  0.901841  0.558416  \n",
       "2698.699219  73.426224   85.696587  0.511004 -75.812531  0.813310  0.520605  \n",
       "\n",
       "[67535 rows x 11 columns]"
      ]
     },
     "execution_count": 9,
     "metadata": {},
     "output_type": "execute_result"
    }
   ],
   "source": [
    "concatenated"
   ]
  },
  {
   "cell_type": "code",
   "execution_count": null,
   "metadata": {},
   "outputs": [],
   "source": []
  },
  {
   "cell_type": "code",
   "execution_count": null,
   "metadata": {},
   "outputs": [],
   "source": []
  },
  {
   "cell_type": "code",
   "execution_count": 346,
   "metadata": {},
   "outputs": [
    {
     "name": "stdout",
     "output_type": "stream",
     "text": [
      "Collecting package metadata (current_repodata.json): ...working... done\n",
      "Note: you may need to restart the kernel to use updated packages.\n",
      "\n",
      "Solving environment: ...working... done\n",
      "\n",
      "## Package Plan ##\n",
      "\n",
      "  environment location: C:\\Users\\ramaz\\anaconda3\n",
      "\n",
      "  added / updated specs:\n",
      "    - rise\n",
      "\n",
      "\n",
      "The following packages will be downloaded:\n",
      "\n",
      "    package                    |            build\n",
      "    ---------------------------|-----------------\n",
      "    conda-4.9.0                |   py38h9bdc248_1         3.1 MB  conda-forge\n",
      "    python_abi-3.8             |           1_cp38           4 KB  conda-forge\n",
      "    rise-5.6.1                 |   py38h32f6830_2         2.4 MB  conda-forge\n",
      "    ------------------------------------------------------------\n",
      "                                           Total:         5.5 MB\n",
      "\n",
      "The following NEW packages will be INSTALLED:\n",
      "\n",
      "  python_abi         conda-forge/win-64::python_abi-3.8-1_cp38\n",
      "  rise               conda-forge/win-64::rise-5.6.1-py38h32f6830_2\n",
      "\n",
      "The following packages will be UPDATED:\n",
      "\n",
      "  conda                       pkgs/main::conda-4.8.3-py38_0 --> conda-forge::conda-4.9.0-py38h9bdc248_1\n",
      "\n",
      "\n",
      "\n",
      "Downloading and Extracting Packages\n",
      "\n",
      "conda-4.9.0          | 3.1 MB    |            |   0% \n",
      "conda-4.9.0          | 3.1 MB    |            |   1% \n",
      "conda-4.9.0          | 3.1 MB    | 2          |   3% \n",
      "conda-4.9.0          | 3.1 MB    | 8          |   9% \n",
      "conda-4.9.0          | 3.1 MB    | #1         |  11% \n",
      "conda-4.9.0          | 3.1 MB    | #9         |  19% \n",
      "conda-4.9.0          | 3.1 MB    | ##3        |  23% \n",
      "conda-4.9.0          | 3.1 MB    | ###1       |  32% \n",
      "conda-4.9.0          | 3.1 MB    | ####2      |  43% \n",
      "conda-4.9.0          | 3.1 MB    | ####8      |  48% "
     ]
    },
    {
     "name": "stderr",
     "output_type": "stream",
     "text": [
      "\n",
      "\n",
      "==> WARNING: A newer version of conda exists. <==\n",
      "  current version: 4.8.3\n",
      "  latest version: 4.9.0\n",
      "\n",
      "Please update conda by running\n",
      "\n",
      "    $ conda update -n base -c defaults conda\n",
      "\n",
      "\n"
     ]
    },
    {
     "name": "stdout",
     "output_type": "stream",
     "text": [
      "\n",
      "conda-4.9.0          | 3.1 MB    | #####3     |  54% \n",
      "conda-4.9.0          | 3.1 MB    | #####8     |  58% \n",
      "conda-4.9.0          | 3.1 MB    | ######2    |  62% \n",
      "conda-4.9.0          | 3.1 MB    | ######6    |  66% \n",
      "conda-4.9.0          | 3.1 MB    | ######9    |  70% \n",
      "conda-4.9.0          | 3.1 MB    | #######3   |  73% \n",
      "conda-4.9.0          | 3.1 MB    | #######7   |  77% \n",
      "conda-4.9.0          | 3.1 MB    | ########   |  80% \n",
      "conda-4.9.0          | 3.1 MB    | ########3  |  83% \n",
      "conda-4.9.0          | 3.1 MB    | ########6  |  86% \n",
      "conda-4.9.0          | 3.1 MB    | ########9  |  89% \n",
      "conda-4.9.0          | 3.1 MB    | #########2 |  92% \n",
      "conda-4.9.0          | 3.1 MB    | #########5 |  95% \n",
      "conda-4.9.0          | 3.1 MB    | ########## | 100% \n",
      "\n",
      "rise-5.6.1           | 2.4 MB    |            |   0% \n",
      "rise-5.6.1           | 2.4 MB    |            |   1% \n",
      "rise-5.6.1           | 2.4 MB    | 4          |   5% \n",
      "rise-5.6.1           | 2.4 MB    | 8          |   8% \n",
      "rise-5.6.1           | 2.4 MB    | #2         |  12% \n",
      "rise-5.6.1           | 2.4 MB    | #6         |  16% \n",
      "rise-5.6.1           | 2.4 MB    | #9         |  19% \n",
      "rise-5.6.1           | 2.4 MB    | ##3        |  23% \n",
      "rise-5.6.1           | 2.4 MB    | ##7        |  27% \n",
      "rise-5.6.1           | 2.4 MB    | ###1       |  31% \n",
      "rise-5.6.1           | 2.4 MB    | ###4       |  35% \n",
      "rise-5.6.1           | 2.4 MB    | ###8       |  39% \n",
      "rise-5.6.1           | 2.4 MB    | ####2      |  43% \n",
      "rise-5.6.1           | 2.4 MB    | ####6      |  47% \n",
      "rise-5.6.1           | 2.4 MB    | #####      |  50% \n",
      "rise-5.6.1           | 2.4 MB    | #####4     |  54% \n",
      "rise-5.6.1           | 2.4 MB    | #####8     |  58% \n",
      "rise-5.6.1           | 2.4 MB    | ######2    |  63% \n",
      "rise-5.6.1           | 2.4 MB    | ######8    |  69% \n",
      "rise-5.6.1           | 2.4 MB    | #######4   |  74% \n",
      "rise-5.6.1           | 2.4 MB    | ########2  |  83% \n",
      "rise-5.6.1           | 2.4 MB    | ########8  |  89% \n",
      "rise-5.6.1           | 2.4 MB    | #########6 |  96% \n",
      "rise-5.6.1           | 2.4 MB    | ########## | 100% \n",
      "\n",
      "python_abi-3.8       | 4 KB      |            |   0% \n",
      "python_abi-3.8       | 4 KB      | ########## | 100% \n",
      "Preparing transaction: ...working... done\n",
      "Verifying transaction: ...working... done\n",
      "Executing transaction: ...working... done\n"
     ]
    }
   ],
   "source": [
    "conda install -c conda-forge rise"
   ]
  },
  {
   "cell_type": "markdown",
   "metadata": {},
   "source": [
    "## Upload wells 31..."
   ]
  },
  {
   "cell_type": "code",
   "execution_count": 3,
   "metadata": {
    "slideshow": {
     "slide_type": "subslide"
    }
   },
   "outputs": [],
   "source": [
    "las1 = lasio.read('31_2-1.las')\n",
    "las2 = lasio.read('31_2-2 R.las')\n",
    "las3 = lasio.read('31_2-3.las')\n",
    "las4 = lasio.read('31_2-7.las')\n",
    "las5 = lasio.read('31_2-8.las')\n",
    "las6 = lasio.read('31_2-9.las')\n",
    "las7 = lasio.read('31_2-10.las')"
   ]
  },
  {
   "cell_type": "code",
   "execution_count": 4,
   "metadata": {
    "slideshow": {
     "slide_type": "subslide"
    }
   },
   "outputs": [],
   "source": [
    "df1 = las1.df()\n",
    "df2 = las2.df()\n",
    "df3 = las3.df()\n",
    "df4 = las4.df()\n",
    "\n",
    "df5 = las5.df()\n",
    "df6 = las6.df()\n",
    "df7 = las7.df()"
   ]
  },
  {
   "cell_type": "code",
   "execution_count": 5,
   "metadata": {},
   "outputs": [],
   "source": [
    "df1 = df1.dropna()\n",
    "df2 = df2.dropna()\n",
    "df3 = df3.dropna()\n",
    "df4 = df4.dropna()\n",
    "\n",
    "df5 = df5.dropna()\n",
    "df6 = df6.dropna()\n",
    "df7 = df7.dropna()"
   ]
  },
  {
   "cell_type": "code",
   "execution_count": 6,
   "metadata": {},
   "outputs": [
    {
     "data": {
      "text/html": [
       "<div>\n",
       "<style scoped>\n",
       "    .dataframe tbody tr th:only-of-type {\n",
       "        vertical-align: middle;\n",
       "    }\n",
       "\n",
       "    .dataframe tbody tr th {\n",
       "        vertical-align: top;\n",
       "    }\n",
       "\n",
       "    .dataframe thead th {\n",
       "        text-align: right;\n",
       "    }\n",
       "</style>\n",
       "<table border=\"1\" class=\"dataframe\">\n",
       "  <thead>\n",
       "    <tr style=\"text-align: right;\">\n",
       "      <th></th>\n",
       "      <th>LITHOLOGY_GEOLINK</th>\n",
       "      <th>CALI</th>\n",
       "      <th>BS</th>\n",
       "      <th>DRHO</th>\n",
       "      <th>NPHI</th>\n",
       "      <th>RHOB</th>\n",
       "      <th>GR</th>\n",
       "      <th>DTC</th>\n",
       "      <th>DTE</th>\n",
       "      <th>RDEP</th>\n",
       "      <th>SP</th>\n",
       "      <th>RSHA</th>\n",
       "      <th>RMED</th>\n",
       "    </tr>\n",
       "    <tr>\n",
       "      <th>DEPT</th>\n",
       "      <th></th>\n",
       "      <th></th>\n",
       "      <th></th>\n",
       "      <th></th>\n",
       "      <th></th>\n",
       "      <th></th>\n",
       "      <th></th>\n",
       "      <th></th>\n",
       "      <th></th>\n",
       "      <th></th>\n",
       "      <th></th>\n",
       "      <th></th>\n",
       "      <th></th>\n",
       "    </tr>\n",
       "  </thead>\n",
       "  <tbody>\n",
       "    <tr>\n",
       "      <th>1165.021851</th>\n",
       "      <td>16.0</td>\n",
       "      <td>17.656111</td>\n",
       "      <td>17.5</td>\n",
       "      <td>0.002692</td>\n",
       "      <td>0.521994</td>\n",
       "      <td>2.197520</td>\n",
       "      <td>39.590191</td>\n",
       "      <td>116.899002</td>\n",
       "      <td>118.269691</td>\n",
       "      <td>1.586334</td>\n",
       "      <td>38.324291</td>\n",
       "      <td>1.583534</td>\n",
       "      <td>1.583534</td>\n",
       "    </tr>\n",
       "    <tr>\n",
       "      <th>1165.174194</th>\n",
       "      <td>16.0</td>\n",
       "      <td>17.666201</td>\n",
       "      <td>17.5</td>\n",
       "      <td>-0.003227</td>\n",
       "      <td>0.509399</td>\n",
       "      <td>2.240210</td>\n",
       "      <td>38.371479</td>\n",
       "      <td>112.123711</td>\n",
       "      <td>114.868523</td>\n",
       "      <td>1.518930</td>\n",
       "      <td>37.984882</td>\n",
       "      <td>1.821768</td>\n",
       "      <td>1.821768</td>\n",
       "    </tr>\n",
       "    <tr>\n",
       "      <th>1165.326660</th>\n",
       "      <td>16.0</td>\n",
       "      <td>17.662781</td>\n",
       "      <td>17.5</td>\n",
       "      <td>-0.001462</td>\n",
       "      <td>0.507634</td>\n",
       "      <td>2.251451</td>\n",
       "      <td>37.278530</td>\n",
       "      <td>117.026901</td>\n",
       "      <td>118.665817</td>\n",
       "      <td>1.476590</td>\n",
       "      <td>37.937263</td>\n",
       "      <td>1.822032</td>\n",
       "      <td>1.822032</td>\n",
       "    </tr>\n",
       "    <tr>\n",
       "      <th>1165.479004</th>\n",
       "      <td>16.0</td>\n",
       "      <td>17.645300</td>\n",
       "      <td>17.5</td>\n",
       "      <td>0.003227</td>\n",
       "      <td>0.535825</td>\n",
       "      <td>2.211232</td>\n",
       "      <td>37.325272</td>\n",
       "      <td>127.051697</td>\n",
       "      <td>127.403778</td>\n",
       "      <td>1.434308</td>\n",
       "      <td>37.793674</td>\n",
       "      <td>1.613198</td>\n",
       "      <td>1.613198</td>\n",
       "    </tr>\n",
       "    <tr>\n",
       "      <th>1165.631470</th>\n",
       "      <td>16.0</td>\n",
       "      <td>17.640711</td>\n",
       "      <td>17.5</td>\n",
       "      <td>0.009077</td>\n",
       "      <td>0.568495</td>\n",
       "      <td>2.124125</td>\n",
       "      <td>38.248112</td>\n",
       "      <td>137.862503</td>\n",
       "      <td>136.434158</td>\n",
       "      <td>1.392006</td>\n",
       "      <td>36.997162</td>\n",
       "      <td>1.368465</td>\n",
       "      <td>1.368465</td>\n",
       "    </tr>\n",
       "    <tr>\n",
       "      <th>...</th>\n",
       "      <td>...</td>\n",
       "      <td>...</td>\n",
       "      <td>...</td>\n",
       "      <td>...</td>\n",
       "      <td>...</td>\n",
       "      <td>...</td>\n",
       "      <td>...</td>\n",
       "      <td>...</td>\n",
       "      <td>...</td>\n",
       "      <td>...</td>\n",
       "      <td>...</td>\n",
       "      <td>...</td>\n",
       "      <td>...</td>\n",
       "    </tr>\n",
       "    <tr>\n",
       "      <th>2421.712158</th>\n",
       "      <td>5.0</td>\n",
       "      <td>8.286654</td>\n",
       "      <td>8.5</td>\n",
       "      <td>-0.005244</td>\n",
       "      <td>0.305512</td>\n",
       "      <td>2.264895</td>\n",
       "      <td>39.280048</td>\n",
       "      <td>91.331039</td>\n",
       "      <td>91.326530</td>\n",
       "      <td>0.889217</td>\n",
       "      <td>46.293629</td>\n",
       "      <td>1.184013</td>\n",
       "      <td>1.184013</td>\n",
       "    </tr>\n",
       "    <tr>\n",
       "      <th>2421.864502</th>\n",
       "      <td>5.0</td>\n",
       "      <td>8.315417</td>\n",
       "      <td>8.5</td>\n",
       "      <td>0.002746</td>\n",
       "      <td>0.311997</td>\n",
       "      <td>2.243627</td>\n",
       "      <td>37.400673</td>\n",
       "      <td>91.320633</td>\n",
       "      <td>91.316139</td>\n",
       "      <td>0.744749</td>\n",
       "      <td>44.632698</td>\n",
       "      <td>0.970549</td>\n",
       "      <td>0.970549</td>\n",
       "    </tr>\n",
       "    <tr>\n",
       "      <th>2422.016846</th>\n",
       "      <td>5.0</td>\n",
       "      <td>8.341419</td>\n",
       "      <td>8.5</td>\n",
       "      <td>0.000628</td>\n",
       "      <td>0.307483</td>\n",
       "      <td>2.233022</td>\n",
       "      <td>37.052544</td>\n",
       "      <td>91.310226</td>\n",
       "      <td>91.305733</td>\n",
       "      <td>0.649769</td>\n",
       "      <td>44.716843</td>\n",
       "      <td>0.810300</td>\n",
       "      <td>0.810300</td>\n",
       "    </tr>\n",
       "    <tr>\n",
       "      <th>2422.169434</th>\n",
       "      <td>5.0</td>\n",
       "      <td>8.360136</td>\n",
       "      <td>8.5</td>\n",
       "      <td>-0.005912</td>\n",
       "      <td>0.290801</td>\n",
       "      <td>2.237806</td>\n",
       "      <td>36.676109</td>\n",
       "      <td>91.299797</td>\n",
       "      <td>91.295319</td>\n",
       "      <td>0.585554</td>\n",
       "      <td>45.120178</td>\n",
       "      <td>0.841237</td>\n",
       "      <td>0.841237</td>\n",
       "    </tr>\n",
       "    <tr>\n",
       "      <th>2422.321777</th>\n",
       "      <td>5.0</td>\n",
       "      <td>8.313718</td>\n",
       "      <td>8.5</td>\n",
       "      <td>-0.001933</td>\n",
       "      <td>0.291211</td>\n",
       "      <td>2.241880</td>\n",
       "      <td>37.306721</td>\n",
       "      <td>91.289421</td>\n",
       "      <td>91.284927</td>\n",
       "      <td>0.536447</td>\n",
       "      <td>44.858986</td>\n",
       "      <td>0.915672</td>\n",
       "      <td>0.915672</td>\n",
       "    </tr>\n",
       "  </tbody>\n",
       "</table>\n",
       "<p>8251 rows × 13 columns</p>\n",
       "</div>"
      ],
      "text/plain": [
       "             LITHOLOGY_GEOLINK       CALI    BS      DRHO      NPHI      RHOB  \\\n",
       "DEPT                                                                            \n",
       "1165.021851               16.0  17.656111  17.5  0.002692  0.521994  2.197520   \n",
       "1165.174194               16.0  17.666201  17.5 -0.003227  0.509399  2.240210   \n",
       "1165.326660               16.0  17.662781  17.5 -0.001462  0.507634  2.251451   \n",
       "1165.479004               16.0  17.645300  17.5  0.003227  0.535825  2.211232   \n",
       "1165.631470               16.0  17.640711  17.5  0.009077  0.568495  2.124125   \n",
       "...                        ...        ...   ...       ...       ...       ...   \n",
       "2421.712158                5.0   8.286654   8.5 -0.005244  0.305512  2.264895   \n",
       "2421.864502                5.0   8.315417   8.5  0.002746  0.311997  2.243627   \n",
       "2422.016846                5.0   8.341419   8.5  0.000628  0.307483  2.233022   \n",
       "2422.169434                5.0   8.360136   8.5 -0.005912  0.290801  2.237806   \n",
       "2422.321777                5.0   8.313718   8.5 -0.001933  0.291211  2.241880   \n",
       "\n",
       "                    GR         DTC         DTE      RDEP         SP      RSHA  \\\n",
       "DEPT                                                                            \n",
       "1165.021851  39.590191  116.899002  118.269691  1.586334  38.324291  1.583534   \n",
       "1165.174194  38.371479  112.123711  114.868523  1.518930  37.984882  1.821768   \n",
       "1165.326660  37.278530  117.026901  118.665817  1.476590  37.937263  1.822032   \n",
       "1165.479004  37.325272  127.051697  127.403778  1.434308  37.793674  1.613198   \n",
       "1165.631470  38.248112  137.862503  136.434158  1.392006  36.997162  1.368465   \n",
       "...                ...         ...         ...       ...        ...       ...   \n",
       "2421.712158  39.280048   91.331039   91.326530  0.889217  46.293629  1.184013   \n",
       "2421.864502  37.400673   91.320633   91.316139  0.744749  44.632698  0.970549   \n",
       "2422.016846  37.052544   91.310226   91.305733  0.649769  44.716843  0.810300   \n",
       "2422.169434  36.676109   91.299797   91.295319  0.585554  45.120178  0.841237   \n",
       "2422.321777  37.306721   91.289421   91.284927  0.536447  44.858986  0.915672   \n",
       "\n",
       "                 RMED  \n",
       "DEPT                   \n",
       "1165.021851  1.583534  \n",
       "1165.174194  1.821768  \n",
       "1165.326660  1.822032  \n",
       "1165.479004  1.613198  \n",
       "1165.631470  1.368465  \n",
       "...               ...  \n",
       "2421.712158  1.184013  \n",
       "2421.864502  0.970549  \n",
       "2422.016846  0.810300  \n",
       "2422.169434  0.841237  \n",
       "2422.321777  0.915672  \n",
       "\n",
       "[8251 rows x 13 columns]"
      ]
     },
     "execution_count": 6,
     "metadata": {},
     "output_type": "execute_result"
    }
   ],
   "source": [
    "df1"
   ]
  },
  {
   "cell_type": "code",
   "execution_count": 7,
   "metadata": {},
   "outputs": [
    {
     "name": "stdout",
     "output_type": "stream",
     "text": [
      "(8251, 13) (2647, 11) (3408, 12) (1039, 14) (10737, 13) (1751, 13) (2121, 12)\n"
     ]
    }
   ],
   "source": [
    "print(df1.shape, df2.shape, df3.shape, df4.shape,\n",
    "     df5.shape, df6.shape, df7.shape)"
   ]
  },
  {
   "cell_type": "code",
   "execution_count": 8,
   "metadata": {},
   "outputs": [],
   "source": [
    "df1.index = range(8251)\n",
    "df2.index = range(8251, (8251+2647))\n",
    "df3.index = range((8251+2647), (8251+2647+3408))\n",
    "df4.index = range((8251+2647+3408), (8251+2647+3408+1039))\n",
    "df5.index = range((8251+2647+3408+1039), (8251+2647+3408+1039+10737))\n",
    "df6.index = range((8251+2647+3408+1039+10737), (8251+2647+3408+1039+10737+1751))\n",
    "df7.index = range((8251+2647+3408+1039+10737+1751), (8251+2647+3408+1039+10737+1751+2121))"
   ]
  },
  {
   "cell_type": "code",
   "execution_count": 9,
   "metadata": {},
   "outputs": [],
   "source": [
    "df1 = df1.drop(['BS', 'DTE'], 1)\n",
    "df3 = df3.drop('DTE', 1)\n",
    "df4 = df4.drop(['DTE', 'SGR', 'PEF'], 1)\n",
    "df5 = df5.drop(['SGR', 'PEF'], 1)\n",
    "df6 = df6.drop(['SGR', 'PEF'], 1)\n",
    "df7 = df7.drop('PEF', 1)"
   ]
  },
  {
   "cell_type": "code",
   "execution_count": 10,
   "metadata": {},
   "outputs": [
    {
     "name": "stdout",
     "output_type": "stream",
     "text": [
      "(8251, 11) (2647, 11) (3408, 11) (1039, 11) (10737, 11) (1751, 11) (2121, 11)\n"
     ]
    }
   ],
   "source": [
    "print(df1.shape, df2.shape, df3.shape, df4.shape,\n",
    "     df5.shape, df6.shape, df7.shape)"
   ]
  },
  {
   "cell_type": "code",
   "execution_count": 11,
   "metadata": {},
   "outputs": [
    {
     "data": {
      "text/plain": [
       "Index(['LITHOLOGY_GEOLINK', 'CALI', 'DRHO', 'NPHI', 'RHOB', 'GR', 'DTC',\n",
       "       'RDEP', 'SP', 'RSHA', 'RMED'],\n",
       "      dtype='object')"
      ]
     },
     "execution_count": 11,
     "metadata": {},
     "output_type": "execute_result"
    }
   ],
   "source": [
    "df1.columns"
   ]
  },
  {
   "cell_type": "code",
   "execution_count": 294,
   "metadata": {},
   "outputs": [],
   "source": [
    "df = pd.concat([df1, df2, df3, df4, df5, df6, df7])"
   ]
  },
  {
   "cell_type": "code",
   "execution_count": 295,
   "metadata": {},
   "outputs": [
    {
     "data": {
      "text/html": [
       "<div>\n",
       "<style scoped>\n",
       "    .dataframe tbody tr th:only-of-type {\n",
       "        vertical-align: middle;\n",
       "    }\n",
       "\n",
       "    .dataframe tbody tr th {\n",
       "        vertical-align: top;\n",
       "    }\n",
       "\n",
       "    .dataframe thead th {\n",
       "        text-align: right;\n",
       "    }\n",
       "</style>\n",
       "<table border=\"1\" class=\"dataframe\">\n",
       "  <thead>\n",
       "    <tr style=\"text-align: right;\">\n",
       "      <th></th>\n",
       "      <th>LITHOLOGY_GEOLINK</th>\n",
       "      <th>CALI</th>\n",
       "      <th>DRHO</th>\n",
       "      <th>NPHI</th>\n",
       "      <th>RHOB</th>\n",
       "      <th>GR</th>\n",
       "      <th>DTC</th>\n",
       "      <th>RDEP</th>\n",
       "      <th>SP</th>\n",
       "      <th>RSHA</th>\n",
       "      <th>RMED</th>\n",
       "    </tr>\n",
       "  </thead>\n",
       "  <tbody>\n",
       "    <tr>\n",
       "      <th>0</th>\n",
       "      <td>16.0</td>\n",
       "      <td>17.656111</td>\n",
       "      <td>0.002692</td>\n",
       "      <td>0.521994</td>\n",
       "      <td>2.197520</td>\n",
       "      <td>39.590191</td>\n",
       "      <td>116.899002</td>\n",
       "      <td>1.586334</td>\n",
       "      <td>38.324291</td>\n",
       "      <td>1.583534</td>\n",
       "      <td>1.583534</td>\n",
       "    </tr>\n",
       "    <tr>\n",
       "      <th>1</th>\n",
       "      <td>16.0</td>\n",
       "      <td>17.666201</td>\n",
       "      <td>-0.003227</td>\n",
       "      <td>0.509399</td>\n",
       "      <td>2.240210</td>\n",
       "      <td>38.371479</td>\n",
       "      <td>112.123711</td>\n",
       "      <td>1.518930</td>\n",
       "      <td>37.984882</td>\n",
       "      <td>1.821768</td>\n",
       "      <td>1.821768</td>\n",
       "    </tr>\n",
       "    <tr>\n",
       "      <th>2</th>\n",
       "      <td>16.0</td>\n",
       "      <td>17.662781</td>\n",
       "      <td>-0.001462</td>\n",
       "      <td>0.507634</td>\n",
       "      <td>2.251451</td>\n",
       "      <td>37.278530</td>\n",
       "      <td>117.026901</td>\n",
       "      <td>1.476590</td>\n",
       "      <td>37.937263</td>\n",
       "      <td>1.822032</td>\n",
       "      <td>1.822032</td>\n",
       "    </tr>\n",
       "    <tr>\n",
       "      <th>3</th>\n",
       "      <td>16.0</td>\n",
       "      <td>17.645300</td>\n",
       "      <td>0.003227</td>\n",
       "      <td>0.535825</td>\n",
       "      <td>2.211232</td>\n",
       "      <td>37.325272</td>\n",
       "      <td>127.051697</td>\n",
       "      <td>1.434308</td>\n",
       "      <td>37.793674</td>\n",
       "      <td>1.613198</td>\n",
       "      <td>1.613198</td>\n",
       "    </tr>\n",
       "    <tr>\n",
       "      <th>4</th>\n",
       "      <td>16.0</td>\n",
       "      <td>17.640711</td>\n",
       "      <td>0.009077</td>\n",
       "      <td>0.568495</td>\n",
       "      <td>2.124125</td>\n",
       "      <td>38.248112</td>\n",
       "      <td>137.862503</td>\n",
       "      <td>1.392006</td>\n",
       "      <td>36.997162</td>\n",
       "      <td>1.368465</td>\n",
       "      <td>1.368465</td>\n",
       "    </tr>\n",
       "    <tr>\n",
       "      <th>...</th>\n",
       "      <td>...</td>\n",
       "      <td>...</td>\n",
       "      <td>...</td>\n",
       "      <td>...</td>\n",
       "      <td>...</td>\n",
       "      <td>...</td>\n",
       "      <td>...</td>\n",
       "      <td>...</td>\n",
       "      <td>...</td>\n",
       "      <td>...</td>\n",
       "      <td>...</td>\n",
       "    </tr>\n",
       "    <tr>\n",
       "      <th>29949</th>\n",
       "      <td>5.0</td>\n",
       "      <td>8.180000</td>\n",
       "      <td>0.038000</td>\n",
       "      <td>0.333500</td>\n",
       "      <td>2.213000</td>\n",
       "      <td>83.610977</td>\n",
       "      <td>104.406082</td>\n",
       "      <td>0.632365</td>\n",
       "      <td>80.484436</td>\n",
       "      <td>0.738000</td>\n",
       "      <td>0.710180</td>\n",
       "    </tr>\n",
       "    <tr>\n",
       "      <th>29950</th>\n",
       "      <td>5.0</td>\n",
       "      <td>8.180000</td>\n",
       "      <td>0.026000</td>\n",
       "      <td>0.340820</td>\n",
       "      <td>2.234000</td>\n",
       "      <td>80.117744</td>\n",
       "      <td>103.846298</td>\n",
       "      <td>0.723476</td>\n",
       "      <td>79.856819</td>\n",
       "      <td>0.739000</td>\n",
       "      <td>0.755500</td>\n",
       "    </tr>\n",
       "    <tr>\n",
       "      <th>29951</th>\n",
       "      <td>5.0</td>\n",
       "      <td>8.180000</td>\n",
       "      <td>0.026000</td>\n",
       "      <td>0.337890</td>\n",
       "      <td>2.273000</td>\n",
       "      <td>78.300735</td>\n",
       "      <td>103.265564</td>\n",
       "      <td>0.842533</td>\n",
       "      <td>82.300941</td>\n",
       "      <td>0.738000</td>\n",
       "      <td>0.881266</td>\n",
       "    </tr>\n",
       "    <tr>\n",
       "      <th>29952</th>\n",
       "      <td>5.0</td>\n",
       "      <td>8.180000</td>\n",
       "      <td>0.038000</td>\n",
       "      <td>0.351560</td>\n",
       "      <td>2.322000</td>\n",
       "      <td>75.271271</td>\n",
       "      <td>101.974213</td>\n",
       "      <td>0.975528</td>\n",
       "      <td>82.531555</td>\n",
       "      <td>0.738000</td>\n",
       "      <td>1.197277</td>\n",
       "    </tr>\n",
       "    <tr>\n",
       "      <th>29953</th>\n",
       "      <td>5.0</td>\n",
       "      <td>8.203000</td>\n",
       "      <td>0.056000</td>\n",
       "      <td>0.357910</td>\n",
       "      <td>2.346000</td>\n",
       "      <td>80.565208</td>\n",
       "      <td>100.990189</td>\n",
       "      <td>1.107426</td>\n",
       "      <td>81.928360</td>\n",
       "      <td>0.738000</td>\n",
       "      <td>1.515327</td>\n",
       "    </tr>\n",
       "  </tbody>\n",
       "</table>\n",
       "<p>29954 rows × 11 columns</p>\n",
       "</div>"
      ],
      "text/plain": [
       "       LITHOLOGY_GEOLINK       CALI      DRHO      NPHI      RHOB         GR  \\\n",
       "0                   16.0  17.656111  0.002692  0.521994  2.197520  39.590191   \n",
       "1                   16.0  17.666201 -0.003227  0.509399  2.240210  38.371479   \n",
       "2                   16.0  17.662781 -0.001462  0.507634  2.251451  37.278530   \n",
       "3                   16.0  17.645300  0.003227  0.535825  2.211232  37.325272   \n",
       "4                   16.0  17.640711  0.009077  0.568495  2.124125  38.248112   \n",
       "...                  ...        ...       ...       ...       ...        ...   \n",
       "29949                5.0   8.180000  0.038000  0.333500  2.213000  83.610977   \n",
       "29950                5.0   8.180000  0.026000  0.340820  2.234000  80.117744   \n",
       "29951                5.0   8.180000  0.026000  0.337890  2.273000  78.300735   \n",
       "29952                5.0   8.180000  0.038000  0.351560  2.322000  75.271271   \n",
       "29953                5.0   8.203000  0.056000  0.357910  2.346000  80.565208   \n",
       "\n",
       "              DTC      RDEP         SP      RSHA      RMED  \n",
       "0      116.899002  1.586334  38.324291  1.583534  1.583534  \n",
       "1      112.123711  1.518930  37.984882  1.821768  1.821768  \n",
       "2      117.026901  1.476590  37.937263  1.822032  1.822032  \n",
       "3      127.051697  1.434308  37.793674  1.613198  1.613198  \n",
       "4      137.862503  1.392006  36.997162  1.368465  1.368465  \n",
       "...           ...       ...        ...       ...       ...  \n",
       "29949  104.406082  0.632365  80.484436  0.738000  0.710180  \n",
       "29950  103.846298  0.723476  79.856819  0.739000  0.755500  \n",
       "29951  103.265564  0.842533  82.300941  0.738000  0.881266  \n",
       "29952  101.974213  0.975528  82.531555  0.738000  1.197277  \n",
       "29953  100.990189  1.107426  81.928360  0.738000  1.515327  \n",
       "\n",
       "[29954 rows x 11 columns]"
      ]
     },
     "execution_count": 295,
     "metadata": {},
     "output_type": "execute_result"
    }
   ],
   "source": [
    "df"
   ]
  },
  {
   "cell_type": "code",
   "execution_count": 296,
   "metadata": {},
   "outputs": [],
   "source": [
    "df.rename({'LITHOLOGY_GEOLINK': 'LITHOLOGY'}, axis=1, inplace=True)"
   ]
  },
  {
   "cell_type": "code",
   "execution_count": 297,
   "metadata": {},
   "outputs": [],
   "source": [
    "df = df.astype({'LITHOLOGY' : 'int32'})"
   ]
  },
  {
   "cell_type": "code",
   "execution_count": 298,
   "metadata": {},
   "outputs": [
    {
     "data": {
      "text/plain": [
       "5     9086\n",
       "6     8831\n",
       "2     5028\n",
       "1     2214\n",
       "3     1130\n",
       "7     1119\n",
       "16     816\n",
       "13     693\n",
       "12     407\n",
       "19     400\n",
       "18     124\n",
       "26      88\n",
       "11      18\n",
       "Name: LITHOLOGY, dtype: int64"
      ]
     },
     "execution_count": 298,
     "metadata": {},
     "output_type": "execute_result"
    }
   ],
   "source": [
    "df.LITHOLOGY.value_counts()"
   ]
  },
  {
   "cell_type": "markdown",
   "metadata": {
    "slideshow": {
     "slide_type": "slide"
    }
   },
   "source": [
    "## Reservoir: Silty Sand, Sandstone, Cross Bedded Sand, Sandy Limestone,  Limestone"
   ]
  },
  {
   "cell_type": "code",
   "execution_count": 299,
   "metadata": {
    "slideshow": {
     "slide_type": "subslide"
    }
   },
   "outputs": [],
   "source": [
    "df['LITHOLOGY'] = [1 if x==2 or x==1 or x==3 or x==16 or x==11 else 0 for x in df['LITHOLOGY']]"
   ]
  },
  {
   "cell_type": "code",
   "execution_count": 300,
   "metadata": {
    "slideshow": {
     "slide_type": "fragment"
    }
   },
   "outputs": [
    {
     "data": {
      "text/plain": [
       "0    20748\n",
       "1     9206\n",
       "Name: LITHOLOGY, dtype: int64"
      ]
     },
     "execution_count": 300,
     "metadata": {},
     "output_type": "execute_result"
    }
   ],
   "source": [
    "df.LITHOLOGY.value_counts()"
   ]
  },
  {
   "cell_type": "code",
   "execution_count": 301,
   "metadata": {
    "scrolled": true,
    "slideshow": {
     "slide_type": "fragment"
    }
   },
   "outputs": [
    {
     "data": {
      "image/png": "[encoded data removed]",
      "text/plain": [
       "<Figure size 432x288 with 2 Axes>"
      ]
     },
     "metadata": {
      "needs_background": "light"
     },
     "output_type": "display_data"
    }
   ],
   "source": [
    "p1 = sns.heatmap(df.corr(method ='pearson'))"
   ]
  },
  {
   "cell_type": "code",
   "execution_count": 302,
   "metadata": {},
   "outputs": [],
   "source": [
    "import matplotlib.pyplot as plt\n",
    "%matplotlib inline"
   ]
  },
  {
   "cell_type": "code",
   "execution_count": 303,
   "metadata": {},
   "outputs": [
    {
     "data": {
      "image/png": "[encoded data removed]",
      "text/plain": [
       "<Figure size 432x288 with 1 Axes>"
      ]
     },
     "metadata": {
      "needs_background": "light"
     },
     "output_type": "display_data"
    }
   ],
   "source": [
    "sns.violinplot(data=df, split=True, linewidth=1)\n",
    "sns.despine(left=True)"
   ]
  },
  {
   "cell_type": "markdown",
   "metadata": {},
   "source": [
    "### Drop RDEP, RSHA, RMED outliers"
   ]
  },
  {
   "cell_type": "code",
   "execution_count": 304,
   "metadata": {},
   "outputs": [
    {
     "data": {
      "text/plain": [
       "count    29954.000000\n",
       "mean        31.774250\n",
       "std        215.855108\n",
       "min          0.332636\n",
       "25%          0.953432\n",
       "50%          1.655045\n",
       "75%          3.311246\n",
       "max       5381.158203\n",
       "Name: RDEP, dtype: float64"
      ]
     },
     "execution_count": 304,
     "metadata": {},
     "output_type": "execute_result"
    }
   ],
   "source": [
    "df.RDEP.describe()"
   ]
  },
  {
   "cell_type": "code",
   "execution_count": 305,
   "metadata": {},
   "outputs": [],
   "source": [
    "RDEP_q1 = df.RDEP.quantile(0.25)\n",
    "RDEP_q3 = df.RDEP.quantile(0.75)\n",
    "RDEP_iqr = RDEP_q3 - RDEP_q1\n",
    "\n",
    "RDEP_q1_outliers = df.RDEP < (RDEP_q1 - 1.5 * RDEP_iqr)\n",
    "RDEP_q3_outliers = df.RDEP > (RDEP_q3 + 1.5 * RDEP_iqr)\n",
    "\n",
    "RDEP_outliers = RDEP_q1_outliers | RDEP_q3_outliers"
   ]
  },
  {
   "cell_type": "code",
   "execution_count": 306,
   "metadata": {},
   "outputs": [
    {
     "data": {
      "text/plain": [
       "(29954, 11)"
      ]
     },
     "execution_count": 306,
     "metadata": {},
     "output_type": "execute_result"
    }
   ],
   "source": [
    "df.shape"
   ]
  },
  {
   "cell_type": "code",
   "execution_count": 307,
   "metadata": {},
   "outputs": [],
   "source": [
    "RDEP_ind_outliers = RDEP_outliers[RDEP_outliers == True ].index\n",
    "\n",
    "df.drop(RDEP_ind_outliers, inplace = True)"
   ]
  },
  {
   "cell_type": "code",
   "execution_count": 308,
   "metadata": {},
   "outputs": [
    {
     "data": {
      "image/png": "[encoded data removed]",
      "text/plain": [
       "<Figure size 432x288 with 1 Axes>"
      ]
     },
     "metadata": {
      "needs_background": "light"
     },
     "output_type": "display_data"
    }
   ],
   "source": [
    "sns.violinplot(data=df, split=True, linewidth=1)\n",
    "sns.despine(left=True)"
   ]
  },
  {
   "cell_type": "code",
   "execution_count": 309,
   "metadata": {},
   "outputs": [],
   "source": [
    "RSHA_q1 = df.RSHA.quantile(0.25)\n",
    "RSHA_q3 = df.RSHA.quantile(0.75)\n",
    "RSHA_iqr = RSHA_q3 - RSHA_q1\n",
    "\n",
    "RSHA_q1_outliers = df.RSHA < (RSHA_q1 - 1.5 * RSHA_iqr)\n",
    "RSHA_q3_outliers = df.RSHA > (RSHA_q3 + 1.5 * RSHA_iqr)\n",
    "\n",
    "RSHA_outliers = RSHA_q1_outliers | RSHA_q3_outliers\n",
    "\n",
    "\n",
    "RSHA_ind_outliers = RSHA_outliers[RSHA_outliers == True ].index\n",
    "df.drop(RSHA_ind_outliers, inplace = True)"
   ]
  },
  {
   "cell_type": "code",
   "execution_count": 310,
   "metadata": {},
   "outputs": [],
   "source": [
    "RMED_q1 = df.RMED.quantile(0.25)\n",
    "RMED_q3 = df.RMED.quantile(0.75)\n",
    "RMED_iqr = RMED_q3 - RMED_q1\n",
    "\n",
    "RMED_q1_outliers = df.RMED < (RMED_q1 - 1.5 * RMED_iqr)\n",
    "RMED_q3_outliers = df.RMED > (RMED_q3 + 1.5 * RMED_iqr)\n",
    "\n",
    "RMED_outliers = RMED_q1_outliers | RMED_q3_outliers\n",
    "\n",
    "\n",
    "RMED_ind_outliers = RMED_outliers[RMED_outliers == True ].index\n",
    "df.drop(RMED_ind_outliers, inplace = True)"
   ]
  },
  {
   "cell_type": "code",
   "execution_count": 311,
   "metadata": {},
   "outputs": [
    {
     "data": {
      "text/plain": [
       "(24243, 11)"
      ]
     },
     "execution_count": 311,
     "metadata": {},
     "output_type": "execute_result"
    }
   ],
   "source": [
    "df.shape"
   ]
  },
  {
   "cell_type": "code",
   "execution_count": 312,
   "metadata": {},
   "outputs": [
    {
     "data": {
      "text/plain": [
       "Index(['LITHOLOGY', 'CALI', 'DRHO', 'NPHI', 'RHOB', 'GR', 'DTC', 'RDEP', 'SP',\n",
       "       'RSHA', 'RMED'],\n",
       "      dtype='object')"
      ]
     },
     "execution_count": 312,
     "metadata": {},
     "output_type": "execute_result"
    }
   ],
   "source": [
    "df.columns"
   ]
  },
  {
   "cell_type": "code",
   "execution_count": 313,
   "metadata": {},
   "outputs": [
    {
     "data": {
      "text/plain": [
       "count    24243.000000\n",
       "mean         1.661091\n",
       "std          1.077078\n",
       "min          0.332636\n",
       "25%          0.841707\n",
       "50%          1.359072\n",
       "75%          2.159652\n",
       "max          6.804562\n",
       "Name: RDEP, dtype: float64"
      ]
     },
     "execution_count": 313,
     "metadata": {},
     "output_type": "execute_result"
    }
   ],
   "source": [
    "df.RDEP.describe()"
   ]
  },
  {
   "cell_type": "code",
   "execution_count": 314,
   "metadata": {},
   "outputs": [
    {
     "data": {
      "image/png": "[encoded data removed]",
      "text/plain": [
       "<Figure size 432x288 with 1 Axes>"
      ]
     },
     "metadata": {
      "needs_background": "light"
     },
     "output_type": "display_data"
    }
   ],
   "source": [
    "sns.violinplot(data=df, split=True, linewidth=1)\n",
    "sns.despine(left=True)"
   ]
  },
  {
   "cell_type": "markdown",
   "metadata": {},
   "source": [
    "### Add columns"
   ]
  },
  {
   "cell_type": "code",
   "execution_count": 315,
   "metadata": {},
   "outputs": [
    {
     "data": {
      "text/plain": [
       "(24243, 11)"
      ]
     },
     "execution_count": 315,
     "metadata": {},
     "output_type": "execute_result"
    }
   ],
   "source": [
    "df.shape"
   ]
  },
  {
   "cell_type": "code",
   "execution_count": 319,
   "metadata": {},
   "outputs": [],
   "source": [
    "df['Archi'] = df['RDEP'].apply(lambda x: (x/100) ** -2)"
   ]
  },
  {
   "cell_type": "code",
   "execution_count": 320,
   "metadata": {},
   "outputs": [
    {
     "data": {
      "text/plain": [
       "(24243, 12)"
      ]
     },
     "execution_count": 320,
     "metadata": {},
     "output_type": "execute_result"
    }
   ],
   "source": [
    "df.shape"
   ]
  },
  {
   "cell_type": "markdown",
   "metadata": {},
   "source": [
    "## Split dataset"
   ]
  },
  {
   "cell_type": "code",
   "execution_count": 321,
   "metadata": {},
   "outputs": [],
   "source": [
    "from sklearn.model_selection import train_test_split"
   ]
  },
  {
   "cell_type": "code",
   "execution_count": 322,
   "metadata": {},
   "outputs": [],
   "source": [
    "y = df['LITHOLOGY']"
   ]
  },
  {
   "cell_type": "code",
   "execution_count": 323,
   "metadata": {},
   "outputs": [],
   "source": [
    "X = df.drop(['LITHOLOGY'], 1)"
   ]
  },
  {
   "cell_type": "code",
   "execution_count": 325,
   "metadata": {},
   "outputs": [],
   "source": [
    "#X = df.drop(['RDEP'], 1)"
   ]
  },
  {
   "cell_type": "code",
   "execution_count": 326,
   "metadata": {},
   "outputs": [],
   "source": [
    "X_train, X_test, y_train, y_test = train_test_split(X, y, test_size=0.2, random_state=10)"
   ]
  },
  {
   "cell_type": "markdown",
   "metadata": {},
   "source": [
    "## Scale the numeric columns with standard scaler"
   ]
  },
  {
   "cell_type": "code",
   "execution_count": 327,
   "metadata": {},
   "outputs": [],
   "source": [
    "from sklearn.preprocessing import MinMaxScaler"
   ]
  },
  {
   "cell_type": "code",
   "execution_count": 328,
   "metadata": {},
   "outputs": [],
   "source": [
    "scaler = MinMaxScaler()\n",
    "scaler.fit(X_train)\n",
    "\n",
    "X_train = scaler.transform(X_train)\n",
    "X_test = scaler.transform(X_test)"
   ]
  },
  {
   "cell_type": "markdown",
   "metadata": {},
   "source": [
    "## Estimate feature importance by Anova"
   ]
  },
  {
   "cell_type": "code",
   "execution_count": 329,
   "metadata": {},
   "outputs": [],
   "source": [
    "from sklearn.feature_selection import SelectKBest, f_classif"
   ]
  },
  {
   "cell_type": "code",
   "execution_count": 330,
   "metadata": {},
   "outputs": [
    {
     "data": {
      "text/plain": [
       "SelectKBest(k=2)"
      ]
     },
     "execution_count": 330,
     "metadata": {},
     "output_type": "execute_result"
    }
   ],
   "source": [
    "selector = SelectKBest(f_classif, k=2)\n",
    "selector.fit(X, y)"
   ]
  },
  {
   "cell_type": "code",
   "execution_count": 331,
   "metadata": {},
   "outputs": [
    {
     "data": {
      "text/plain": [
       "Archi    10905.756821\n",
       "GR        9402.252457\n",
       "NPHI      6972.613707\n",
       "RDEP      4328.734673\n",
       "RMED      2762.006018\n",
       "RSHA      2703.820614\n",
       "CALI      2212.994120\n",
       "DTC       1798.638472\n",
       "DRHO      1291.219113\n",
       "RHOB       425.635678\n",
       "SP         232.527123\n",
       "Name: Importance, dtype: float64"
      ]
     },
     "execution_count": 331,
     "metadata": {},
     "output_type": "execute_result"
    }
   ],
   "source": [
    "scores = selector.scores_\n",
    "X_columns = X.columns\n",
    "important_features = pd.DataFrame(data=scores, index = X_columns, columns = ['Importance'])\n",
    "important_features.Importance.sort_values(ascending=False) "
   ]
  },
  {
   "cell_type": "markdown",
   "metadata": {},
   "source": [
    "## Build a model with logistic regression"
   ]
  },
  {
   "cell_type": "code",
   "execution_count": 332,
   "metadata": {},
   "outputs": [],
   "source": [
    "from sklearn.linear_model import LogisticRegression\n",
    "from sklearn.model_selection import GridSearchCV\n",
    "from sklearn.metrics import accuracy_score\n",
    "from sklearn.pipeline import make_pipeline"
   ]
  },
  {
   "cell_type": "code",
   "execution_count": 333,
   "metadata": {},
   "outputs": [
    {
     "name": "stdout",
     "output_type": "stream",
     "text": [
      "Fitting 5 folds for each of 7 candidates, totalling 35 fits\n",
      "[Parallel(n_jobs=-1)]: Using backend LokyBackend with 4 concurrent workers.\n",
      "[Parallel(n_jobs=-1)]: Done   1 tasks      | elapsed:    0.0s\n",
      "[Parallel(n_jobs=-1)]: Batch computation too fast (0.1024s.) Setting batch_size=2.\n",
      "[Parallel(n_jobs=-1)]: Done   2 tasks      | elapsed:    0.0s\n",
      "[Parallel(n_jobs=-1)]: Done   3 tasks      | elapsed:    0.0s\n",
      "[Parallel(n_jobs=-1)]: Done   4 tasks      | elapsed:    0.0s\n",
      "[Parallel(n_jobs=-1)]: Done   5 tasks      | elapsed:    0.1s\n",
      "[Parallel(n_jobs=-1)]: Done   6 tasks      | elapsed:    0.1s\n",
      "[Parallel(n_jobs=-1)]: Done   7 tasks      | elapsed:    0.1s\n",
      "[Parallel(n_jobs=-1)]: Done   8 tasks      | elapsed:    0.1s\n",
      "[Parallel(n_jobs=-1)]: Done  10 tasks      | elapsed:    0.2s\n",
      "[Parallel(n_jobs=-1)]: Done  12 tasks      | elapsed:    0.4s\n",
      "[Parallel(n_jobs=-1)]: Done  14 tasks      | elapsed:    0.4s\n",
      "[Parallel(n_jobs=-1)]: Done  16 tasks      | elapsed:    0.4s\n",
      "[Parallel(n_jobs=-1)]: Done  18 tasks      | elapsed:    0.5s\n",
      "[Parallel(n_jobs=-1)]: Done  20 tasks      | elapsed:    0.6s\n",
      "[Parallel(n_jobs=-1)]: Done  22 tasks      | elapsed:    0.6s\n",
      "[Parallel(n_jobs=-1)]: Done  24 tasks      | elapsed:    0.7s\n",
      "[Parallel(n_jobs=-1)]: Done  26 out of  35 | elapsed:    0.8s remaining:    0.2s\n",
      "[Parallel(n_jobs=-1)]: Done  27 out of  35 | elapsed:    0.9s remaining:    0.2s\n",
      "[Parallel(n_jobs=-1)]: Done  29 out of  35 | elapsed:    0.9s remaining:    0.1s\n",
      "[Parallel(n_jobs=-1)]: Done  31 out of  35 | elapsed:    0.9s remaining:    0.0s\n",
      "[Parallel(n_jobs=-1)]: Done  33 out of  35 | elapsed:    1.0s remaining:    0.0s\n",
      "[Parallel(n_jobs=-1)]: Done  35 out of  35 | elapsed:    1.0s remaining:    0.0s\n",
      "[Parallel(n_jobs=-1)]: Done  35 out of  35 | elapsed:    1.0s finished\n"
     ]
    },
    {
     "data": {
      "text/plain": [
       "GridSearchCV(estimator=Pipeline(steps=[('logisticregression',\n",
       "                                        LogisticRegression())]),\n",
       "             n_jobs=-1,\n",
       "             param_grid={'logisticregression__C': array([1.e-02, 1.e-01, 1.e+00, 1.e+01, 1.e+02, 1.e+03, 1.e+04])},\n",
       "             verbose=50)"
      ]
     },
     "execution_count": 333,
     "metadata": {},
     "output_type": "execute_result"
    }
   ],
   "source": [
    "pipe = make_pipeline(LogisticRegression(penalty='l2'))\n",
    "params = {'logisticregression__C' : np.logspace(-2, 4, 7)\n",
    "}\n",
    "gs = GridSearchCV(pipe, param_grid=params, verbose=50, n_jobs=-1)\n",
    "gs.fit(X_train, y_train)"
   ]
  },
  {
   "cell_type": "code",
   "execution_count": 334,
   "metadata": {},
   "outputs": [
    {
     "data": {
      "text/plain": [
       "{'logisticregression__C': 1000.0}"
      ]
     },
     "execution_count": 334,
     "metadata": {},
     "output_type": "execute_result"
    }
   ],
   "source": [
    "gs.best_params_"
   ]
  },
  {
   "cell_type": "code",
   "execution_count": 336,
   "metadata": {},
   "outputs": [
    {
     "name": "stdout",
     "output_type": "stream",
     "text": [
      "0.9175087646937513\n"
     ]
    }
   ],
   "source": [
    "y_pred = gs.best_estimator_.predict(X_test)\n",
    "print(accuracy_score(y_pred, y_test))"
   ]
  },
  {
   "cell_type": "code",
   "execution_count": 337,
   "metadata": {},
   "outputs": [
    {
     "data": {
      "text/plain": [
       "Index(['LITHOLOGY', 'CALI', 'DRHO', 'NPHI', 'RHOB', 'GR', 'DTC', 'RDEP', 'SP',\n",
       "       'RSHA', 'RMED', 'Archi'],\n",
       "      dtype='object')"
      ]
     },
     "execution_count": 337,
     "metadata": {},
     "output_type": "execute_result"
    }
   ],
   "source": [
    "df.columns"
   ]
  },
  {
   "cell_type": "code",
   "execution_count": 174,
   "metadata": {},
   "outputs": [
    {
     "name": "stdout",
     "output_type": "stream",
     "text": [
      "Requirement already satisfied: xgboost in c:\\users\\ramaz\\anaconda3\\lib\\site-packages (1.2.0)Note: you may need to restart the kernel to use updated packages.\n",
      "Requirement already satisfied: numpy in c:\\users\\ramaz\\anaconda3\\lib\\site-packages (from xgboost) (1.18.5)\n",
      "Requirement already satisfied: scipy in c:\\users\\ramaz\\anaconda3\\lib\\site-packages (from xgboost) (1.5.0)\n",
      "\n"
     ]
    }
   ],
   "source": [
    "pip install xgboost"
   ]
  },
  {
   "cell_type": "code",
   "execution_count": 345,
   "metadata": {},
   "outputs": [
    {
     "data": {
      "text/plain": [
       "Index(['LITHOLOGY', 'CALI', 'DRHO', 'NPHI', 'RHOB', 'GR', 'DTC', 'RDEP', 'SP',\n",
       "       'RSHA', 'RMED', 'Archi'],\n",
       "      dtype='object')"
      ]
     },
     "execution_count": 345,
     "metadata": {},
     "output_type": "execute_result"
    }
   ],
   "source": [
    "df.columns"
   ]
  },
  {
   "cell_type": "code",
   "execution_count": null,
   "metadata": {},
   "outputs": [],
   "source": []
  },
  {
   "cell_type": "code",
   "execution_count": null,
   "metadata": {},
   "outputs": [],
   "source": []
  },
  {
   "cell_type": "code",
   "execution_count": null,
   "metadata": {},
   "outputs": [],
   "source": []
  },
  {
   "cell_type": "code",
   "execution_count": null,
   "metadata": {},
   "outputs": [],
   "source": []
  },
  {
   "cell_type": "code",
   "execution_count": null,
   "metadata": {},
   "outputs": [],
   "source": []
  }
 ],
 "metadata": {
  "celltoolbar": "Slideshow",
  "kernelspec": {
   "display_name": "Python 3",
   "language": "python",
   "name": "python3"
  },
  "language_info": {
   "codemirror_mode": {
    "name": "ipython",
    "version": 3
   },
   "file_extension": ".py",
   "mimetype": "text/x-python",
   "name": "python",
   "nbconvert_exporter": "python",
   "pygments_lexer": "ipython3",
   "version": "3.8.5"
  }
 },
 "nbformat": 4,
 "nbformat_minor": 4
}
